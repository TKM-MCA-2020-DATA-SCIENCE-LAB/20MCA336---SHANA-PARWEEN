{
  "nbformat": 4,
  "nbformat_minor": 0,
  "metadata": {
    "colab": {
      "name": "CO1_Q2.ipynb",
      "provenance": [],
      "collapsed_sections": []
    },
    "kernelspec": {
      "name": "python3",
      "display_name": "Python 3"
    },
    "language_info": {
      "name": "python"
    }
  },
  "cells": [
    {
      "cell_type": "markdown",
      "source": [
        "# **PROGRAM - 2**\n",
        "\n",
        "## **AIM:**\n",
        "\n",
        "Matrix operations (using vectorization) and transformation using python and SVD using Python.\n",
        "\n",
        "\n"
      ],
      "metadata": {
        "id": "IHVyD_fvY4w1"
      }
    },
    {
      "cell_type": "code",
      "source": [
        "import numpy as pd"
      ],
      "metadata": {
        "id": "Pn_zuuGRY020"
      },
      "execution_count": null,
      "outputs": []
    },
    {
      "cell_type": "code",
      "metadata": {
        "colab": {
          "base_uri": "https://localhost:8080/"
        },
        "id": "wQV2Ozb7LCu6",
        "outputId": "195a8ded-4ef1-40b8-e29b-d0b13adaaa06"
      },
      "source": [
        "n=[1,2,3,4,5]\n",
        "print (n)"
      ],
      "execution_count": null,
      "outputs": [
        {
          "output_type": "stream",
          "name": "stdout",
          "text": [
            "[1, 2, 3, 4, 5]\n"
          ]
        }
      ]
    },
    {
      "cell_type": "code",
      "metadata": {
        "colab": {
          "base_uri": "https://localhost:8080/"
        },
        "id": "HChsBdRBLZm_",
        "outputId": "ddfcc3c6-ae83-4aaf-ab92-37199efa64cc"
      },
      "source": [
        "pd.array(n)"
      ],
      "execution_count": null,
      "outputs": [
        {
          "output_type": "execute_result",
          "data": {
            "text/plain": [
              "array([1, 2, 3, 4, 5])"
            ]
          },
          "metadata": {},
          "execution_count": 6
        }
      ]
    },
    {
      "cell_type": "code",
      "metadata": {
        "colab": {
          "base_uri": "https://localhost:8080/"
        },
        "id": "eJauGlHUMB93",
        "outputId": "35bbabf4-61d3-4cb2-9775-154a30f6924c"
      },
      "source": [
        "m=[[1,2,3],[4,5,6],[7,8,9]]\n",
        "pd.array(m)"
      ],
      "execution_count": null,
      "outputs": [
        {
          "output_type": "execute_result",
          "data": {
            "text/plain": [
              "array([[1, 2, 3],\n",
              "       [4, 5, 6],\n",
              "       [7, 8, 9]])"
            ]
          },
          "metadata": {},
          "execution_count": 7
        }
      ]
    },
    {
      "cell_type": "code",
      "metadata": {
        "colab": {
          "base_uri": "https://localhost:8080/"
        },
        "id": "42brkhK5MjsW",
        "outputId": "7e83094d-f2a1-4737-9fd3-6e127a936d67"
      },
      "source": [
        "pd.arange(0,10)"
      ],
      "execution_count": null,
      "outputs": [
        {
          "output_type": "execute_result",
          "data": {
            "text/plain": [
              "array([0, 1, 2, 3, 4, 5, 6, 7, 8, 9])"
            ]
          },
          "metadata": {},
          "execution_count": 8
        }
      ]
    },
    {
      "cell_type": "code",
      "metadata": {
        "colab": {
          "base_uri": "https://localhost:8080/"
        },
        "id": "VUx7iuT6OOwX",
        "outputId": "3b08b198-72d4-4486-997d-20f875038629"
      },
      "source": [
        "pd.arange(0,14,3)"
      ],
      "execution_count": null,
      "outputs": [
        {
          "output_type": "execute_result",
          "data": {
            "text/plain": [
              "array([ 0,  3,  6,  9, 12])"
            ]
          },
          "metadata": {},
          "execution_count": 9
        }
      ]
    },
    {
      "cell_type": "code",
      "metadata": {
        "colab": {
          "base_uri": "https://localhost:8080/"
        },
        "id": "sH4NYIRvOjgn",
        "outputId": "fd0a0cb5-89dd-4c60-be05-ceedef924f5c"
      },
      "source": [
        "pd.zeros(3)\n"
      ],
      "execution_count": null,
      "outputs": [
        {
          "output_type": "execute_result",
          "data": {
            "text/plain": [
              "array([0., 0., 0.])"
            ]
          },
          "metadata": {},
          "execution_count": 10
        }
      ]
    },
    {
      "cell_type": "code",
      "metadata": {
        "colab": {
          "base_uri": "https://localhost:8080/"
        },
        "id": "s56LZEAyO90l",
        "outputId": "97b1eccb-3a68-4c6c-a348-39f96d766a40"
      },
      "source": [
        "pd.zeros((5,5))"
      ],
      "execution_count": null,
      "outputs": [
        {
          "output_type": "execute_result",
          "data": {
            "text/plain": [
              "array([[0., 0., 0., 0., 0.],\n",
              "       [0., 0., 0., 0., 0.],\n",
              "       [0., 0., 0., 0., 0.],\n",
              "       [0., 0., 0., 0., 0.],\n",
              "       [0., 0., 0., 0., 0.]])"
            ]
          },
          "metadata": {},
          "execution_count": 11
        }
      ]
    },
    {
      "cell_type": "code",
      "metadata": {
        "colab": {
          "base_uri": "https://localhost:8080/"
        },
        "id": "lVtVFvB1PSOf",
        "outputId": "606e3c69-f34d-45bc-85b7-82786d2854da"
      },
      "source": [
        "pd.ones(5)"
      ],
      "execution_count": null,
      "outputs": [
        {
          "output_type": "execute_result",
          "data": {
            "text/plain": [
              "array([1., 1., 1., 1., 1.])"
            ]
          },
          "metadata": {},
          "execution_count": 12
        }
      ]
    },
    {
      "cell_type": "code",
      "metadata": {
        "colab": {
          "base_uri": "https://localhost:8080/"
        },
        "id": "ylPtDjGHPzQ_",
        "outputId": "9d9911b6-e435-4ca9-c149-664f93c43495"
      },
      "source": [
        "pd.ones((5,5))"
      ],
      "execution_count": null,
      "outputs": [
        {
          "output_type": "execute_result",
          "data": {
            "text/plain": [
              "array([[1., 1., 1., 1., 1.],\n",
              "       [1., 1., 1., 1., 1.],\n",
              "       [1., 1., 1., 1., 1.],\n",
              "       [1., 1., 1., 1., 1.],\n",
              "       [1., 1., 1., 1., 1.]])"
            ]
          },
          "metadata": {},
          "execution_count": 13
        }
      ]
    },
    {
      "cell_type": "code",
      "metadata": {
        "colab": {
          "base_uri": "https://localhost:8080/"
        },
        "id": "QVu-eP-YOv8X",
        "outputId": "770f179d-6f51-44f3-8c4d-8965a84afb46"
      },
      "source": [
        "pd.eye(3)"
      ],
      "execution_count": null,
      "outputs": [
        {
          "output_type": "execute_result",
          "data": {
            "text/plain": [
              "array([[1., 0., 0.],\n",
              "       [0., 1., 0.],\n",
              "       [0., 0., 1.]])"
            ]
          },
          "metadata": {},
          "execution_count": 14
        }
      ]
    },
    {
      "cell_type": "code",
      "metadata": {
        "colab": {
          "base_uri": "https://localhost:8080/"
        },
        "id": "vpPKfuwAQahn",
        "outputId": "1d4db786-ee12-4edc-97a7-7d2678a30b8d"
      },
      "source": [
        "pd.linspace(0,20,5)"
      ],
      "execution_count": null,
      "outputs": [
        {
          "output_type": "execute_result",
          "data": {
            "text/plain": [
              "array([ 0.,  5., 10., 15., 20.])"
            ]
          },
          "metadata": {},
          "execution_count": 15
        }
      ]
    },
    {
      "cell_type": "code",
      "metadata": {
        "colab": {
          "base_uri": "https://localhost:8080/"
        },
        "id": "4ufmuEIUQ7Rg",
        "outputId": "faca1992-9f01-4dd0-e25b-1b22407cd72a"
      },
      "source": [
        "pd.linspace(1,6,3)"
      ],
      "execution_count": null,
      "outputs": [
        {
          "output_type": "execute_result",
          "data": {
            "text/plain": [
              "array([1. , 3.5, 6. ])"
            ]
          },
          "metadata": {},
          "execution_count": 16
        }
      ]
    },
    {
      "cell_type": "code",
      "metadata": {
        "colab": {
          "base_uri": "https://localhost:8080/"
        },
        "id": "tFyhwC8DRRoH",
        "outputId": "2278ab33-d883-4664-ee59-dad35ded0eed"
      },
      "source": [
        "pd.linspace(0,100,10)"
      ],
      "execution_count": null,
      "outputs": [
        {
          "output_type": "execute_result",
          "data": {
            "text/plain": [
              "array([  0.        ,  11.11111111,  22.22222222,  33.33333333,\n",
              "        44.44444444,  55.55555556,  66.66666667,  77.77777778,\n",
              "        88.88888889, 100.        ])"
            ]
          },
          "metadata": {},
          "execution_count": 17
        }
      ]
    },
    {
      "cell_type": "code",
      "metadata": {
        "colab": {
          "base_uri": "https://localhost:8080/"
        },
        "id": "bI_rafoAQKNd",
        "outputId": "3ad159fb-bca6-4da2-a528-1b629edf5bae"
      },
      "source": [
        "pd.random.rand(5)"
      ],
      "execution_count": null,
      "outputs": [
        {
          "output_type": "execute_result",
          "data": {
            "text/plain": [
              "array([0.36673517, 0.52038518, 0.8821126 , 0.49032897, 0.78885939])"
            ]
          },
          "metadata": {},
          "execution_count": 18
        }
      ]
    },
    {
      "cell_type": "code",
      "metadata": {
        "colab": {
          "base_uri": "https://localhost:8080/"
        },
        "id": "EMnv4RNERvZw",
        "outputId": "a67f5f9c-22f9-4a10-dcba-5f48daa0e875"
      },
      "source": [
        "pd.random.rand(2)"
      ],
      "execution_count": null,
      "outputs": [
        {
          "output_type": "execute_result",
          "data": {
            "text/plain": [
              "array([0.59655309, 0.78540801])"
            ]
          },
          "metadata": {},
          "execution_count": 19
        }
      ]
    },
    {
      "cell_type": "code",
      "metadata": {
        "colab": {
          "base_uri": "https://localhost:8080/"
        },
        "id": "C70RDNmYRzF3",
        "outputId": "1903330d-03ed-4b0b-f5dc-b5230e5f7a8c"
      },
      "source": [
        "pd.random.rand(2,2)"
      ],
      "execution_count": null,
      "outputs": [
        {
          "output_type": "execute_result",
          "data": {
            "text/plain": [
              "array([[0.00456417, 0.19040905],\n",
              "       [0.88668811, 0.01155942]])"
            ]
          },
          "metadata": {},
          "execution_count": 20
        }
      ]
    },
    {
      "cell_type": "code",
      "metadata": {
        "colab": {
          "base_uri": "https://localhost:8080/"
        },
        "id": "h9HmdOF8SDAn",
        "outputId": "3e35a64f-c896-4eed-8d36-0932e9e43fb0"
      },
      "source": [
        "pd.random.randn(5)"
      ],
      "execution_count": null,
      "outputs": [
        {
          "output_type": "execute_result",
          "data": {
            "text/plain": [
              "array([-0.7543355 , -0.02772456, -1.02653437,  0.82245293, -1.6574864 ])"
            ]
          },
          "metadata": {},
          "execution_count": 21
        }
      ]
    },
    {
      "cell_type": "code",
      "metadata": {
        "colab": {
          "base_uri": "https://localhost:8080/"
        },
        "id": "VoiLiJThSRGQ",
        "outputId": "45f5255a-91c2-4fee-97f7-ba952618830a"
      },
      "source": [
        "pd.random.randint(1,10)"
      ],
      "execution_count": null,
      "outputs": [
        {
          "output_type": "execute_result",
          "data": {
            "text/plain": [
              "5"
            ]
          },
          "metadata": {},
          "execution_count": 22
        }
      ]
    },
    {
      "cell_type": "code",
      "metadata": {
        "colab": {
          "base_uri": "https://localhost:8080/"
        },
        "id": "KUJaZbLsSwB_",
        "outputId": "adcc13a6-3bb9-4004-f53d-a20beaf0007a"
      },
      "source": [
        "pd.random.randint(1,100,10)"
      ],
      "execution_count": null,
      "outputs": [
        {
          "output_type": "execute_result",
          "data": {
            "text/plain": [
              "array([58, 59, 35, 19, 85, 91, 28, 32, 30, 70])"
            ]
          },
          "metadata": {},
          "execution_count": 23
        }
      ]
    },
    {
      "cell_type": "code",
      "metadata": {
        "id": "fjPfjhWwS4AG"
      },
      "source": [
        "arr=pd.arange(25)"
      ],
      "execution_count": null,
      "outputs": []
    },
    {
      "cell_type": "code",
      "metadata": {
        "colab": {
          "base_uri": "https://localhost:8080/"
        },
        "id": "U9C3s6XVTcPl",
        "outputId": "47f35c96-bc45-4de0-b2b8-f2745d342e57"
      },
      "source": [
        "pd.arange(25)"
      ],
      "execution_count": null,
      "outputs": [
        {
          "output_type": "execute_result",
          "data": {
            "text/plain": [
              "array([ 0,  1,  2,  3,  4,  5,  6,  7,  8,  9, 10, 11, 12, 13, 14, 15, 16,\n",
              "       17, 18, 19, 20, 21, 22, 23, 24])"
            ]
          },
          "metadata": {},
          "execution_count": 25
        }
      ]
    },
    {
      "cell_type": "code",
      "metadata": {
        "id": "Au6eyhGgTf2t"
      },
      "source": [
        "ranarr=pd.random.randint(0,25,5)"
      ],
      "execution_count": null,
      "outputs": []
    },
    {
      "cell_type": "code",
      "metadata": {
        "colab": {
          "base_uri": "https://localhost:8080/"
        },
        "id": "D4Q25mG_T703",
        "outputId": "f0aca1ea-c69f-4633-c2f4-0e78dc63ba01"
      },
      "source": [
        "ranarr"
      ],
      "execution_count": null,
      "outputs": [
        {
          "output_type": "execute_result",
          "data": {
            "text/plain": [
              "array([16, 11,  8, 21,  6])"
            ]
          },
          "metadata": {},
          "execution_count": 27
        }
      ]
    },
    {
      "cell_type": "code",
      "metadata": {
        "colab": {
          "base_uri": "https://localhost:8080/"
        },
        "id": "W5EUTyL9UDHn",
        "outputId": "bbad6ac4-3e91-4e1f-dec6-9c1e0f4ecfd9"
      },
      "source": [
        "arr.reshape(5,5)"
      ],
      "execution_count": null,
      "outputs": [
        {
          "output_type": "execute_result",
          "data": {
            "text/plain": [
              "array([[ 0,  1,  2,  3,  4],\n",
              "       [ 5,  6,  7,  8,  9],\n",
              "       [10, 11, 12, 13, 14],\n",
              "       [15, 16, 17, 18, 19],\n",
              "       [20, 21, 22, 23, 24]])"
            ]
          },
          "metadata": {},
          "execution_count": 28
        }
      ]
    },
    {
      "cell_type": "code",
      "metadata": {
        "colab": {
          "base_uri": "https://localhost:8080/"
        },
        "id": "qE-RHz-OUdyX",
        "outputId": "a1f22123-8036-412e-fe56-6546fe8666d0"
      },
      "source": [
        "ranarr.max()"
      ],
      "execution_count": null,
      "outputs": [
        {
          "output_type": "execute_result",
          "data": {
            "text/plain": [
              "21"
            ]
          },
          "metadata": {},
          "execution_count": 29
        }
      ]
    },
    {
      "cell_type": "code",
      "metadata": {
        "colab": {
          "base_uri": "https://localhost:8080/"
        },
        "id": "anChGKsjU-HI",
        "outputId": "906519e6-0740-47b4-db1c-03ee39de0225"
      },
      "source": [
        "ranarr.min()"
      ],
      "execution_count": null,
      "outputs": [
        {
          "output_type": "execute_result",
          "data": {
            "text/plain": [
              "6"
            ]
          },
          "metadata": {},
          "execution_count": 30
        }
      ]
    },
    {
      "cell_type": "code",
      "metadata": {
        "colab": {
          "base_uri": "https://localhost:8080/"
        },
        "id": "a3x8aQagVChf",
        "outputId": "7fd3994e-e62b-48d4-c808-6ea6553af1a4"
      },
      "source": [
        "ranarr.argmax()"
      ],
      "execution_count": null,
      "outputs": [
        {
          "output_type": "execute_result",
          "data": {
            "text/plain": [
              "3"
            ]
          },
          "metadata": {},
          "execution_count": 31
        }
      ]
    },
    {
      "cell_type": "code",
      "metadata": {
        "colab": {
          "base_uri": "https://localhost:8080/"
        },
        "id": "DuVx4mLwVOfH",
        "outputId": "3eb04eb6-d3f2-429d-da4c-0b0a1febd856"
      },
      "source": [
        "ranarr.argmin()"
      ],
      "execution_count": null,
      "outputs": [
        {
          "output_type": "execute_result",
          "data": {
            "text/plain": [
              "4"
            ]
          },
          "metadata": {},
          "execution_count": 32
        }
      ]
    },
    {
      "cell_type": "code",
      "metadata": {
        "colab": {
          "base_uri": "https://localhost:8080/"
        },
        "id": "fDB8juFAVQsP",
        "outputId": "4d8020f8-a516-4eb4-bbb1-2e8b013a5df1"
      },
      "source": [
        "arr.shape"
      ],
      "execution_count": null,
      "outputs": [
        {
          "output_type": "execute_result",
          "data": {
            "text/plain": [
              "(25,)"
            ]
          },
          "metadata": {},
          "execution_count": 33
        }
      ]
    },
    {
      "cell_type": "code",
      "metadata": {
        "colab": {
          "base_uri": "https://localhost:8080/"
        },
        "id": "z7Y3UlPhVa_3",
        "outputId": "2885e7d4-ce37-418c-aa53-d55d55cfa841"
      },
      "source": [
        "arr.dtype"
      ],
      "execution_count": null,
      "outputs": [
        {
          "output_type": "execute_result",
          "data": {
            "text/plain": [
              "dtype('int64')"
            ]
          },
          "metadata": {},
          "execution_count": 34
        }
      ]
    },
    {
      "cell_type": "code",
      "metadata": {
        "colab": {
          "base_uri": "https://localhost:8080/"
        },
        "id": "b2Y33XMWV2z_",
        "outputId": "04102832-ce97-480e-8968-20d1b7ac08d5"
      },
      "source": [
        "arr[5]"
      ],
      "execution_count": null,
      "outputs": [
        {
          "output_type": "execute_result",
          "data": {
            "text/plain": [
              "5"
            ]
          },
          "metadata": {},
          "execution_count": 35
        }
      ]
    },
    {
      "cell_type": "code",
      "metadata": {
        "colab": {
          "base_uri": "https://localhost:8080/"
        },
        "id": "gwp-E0VaWM2n",
        "outputId": "05e16d18-e862-488a-96bb-02fd6310d44c"
      },
      "source": [
        "arr[6]"
      ],
      "execution_count": null,
      "outputs": [
        {
          "output_type": "execute_result",
          "data": {
            "text/plain": [
              "6"
            ]
          },
          "metadata": {},
          "execution_count": 36
        }
      ]
    },
    {
      "cell_type": "code",
      "metadata": {
        "colab": {
          "base_uri": "https://localhost:8080/"
        },
        "id": "3MrchYyqWQ2n",
        "outputId": "b1696ae9-bb7b-4dc9-8503-ab600e9dfd42"
      },
      "source": [
        "arr[1:6]"
      ],
      "execution_count": null,
      "outputs": [
        {
          "output_type": "execute_result",
          "data": {
            "text/plain": [
              "array([1, 2, 3, 4, 5])"
            ]
          },
          "metadata": {},
          "execution_count": 37
        }
      ]
    },
    {
      "cell_type": "code",
      "metadata": {
        "id": "ldTEgMuMW_oX"
      },
      "source": [
        "arr[1:6]=50"
      ],
      "execution_count": null,
      "outputs": []
    },
    {
      "cell_type": "code",
      "metadata": {
        "colab": {
          "base_uri": "https://localhost:8080/"
        },
        "id": "unMjix8lXTgw",
        "outputId": "e552db70-1303-46f1-83da-24e53f5857ea"
      },
      "source": [
        "arr"
      ],
      "execution_count": null,
      "outputs": [
        {
          "output_type": "execute_result",
          "data": {
            "text/plain": [
              "array([ 0, 50, 50, 50, 50, 50,  6,  7,  8,  9, 10, 11, 12, 13, 14, 15, 16,\n",
              "       17, 18, 19, 20, 21, 22, 23, 24])"
            ]
          },
          "metadata": {},
          "execution_count": 39
        }
      ]
    },
    {
      "cell_type": "code",
      "metadata": {
        "colab": {
          "base_uri": "https://localhost:8080/"
        },
        "id": "vNC4jiYXYU-4",
        "outputId": "b9554080-f420-46ac-ca30-7a851b2fc960"
      },
      "source": [
        "arr.reshape(5,5)"
      ],
      "execution_count": null,
      "outputs": [
        {
          "output_type": "execute_result",
          "data": {
            "text/plain": [
              "array([[ 0, 50, 50, 50, 50],\n",
              "       [50,  6,  7,  8,  9],\n",
              "       [10, 11, 12, 13, 14],\n",
              "       [15, 16, 17, 18, 19],\n",
              "       [20, 21, 22, 23, 24]])"
            ]
          },
          "metadata": {},
          "execution_count": 40
        }
      ]
    },
    {
      "cell_type": "code",
      "metadata": {
        "id": "BHJr_Ye7ZF9g"
      },
      "source": [
        "arr[1:5][3:5]=0"
      ],
      "execution_count": null,
      "outputs": []
    },
    {
      "cell_type": "code",
      "metadata": {
        "colab": {
          "base_uri": "https://localhost:8080/"
        },
        "id": "iwuAGyyjZdYA",
        "outputId": "cb8a57c9-50da-4218-f017-a7c44a3e72b3"
      },
      "source": [
        "arr"
      ],
      "execution_count": null,
      "outputs": [
        {
          "output_type": "execute_result",
          "data": {
            "text/plain": [
              "array([ 0, 50, 50, 50,  0, 50,  6,  7,  8,  9, 10, 11, 12, 13, 14, 15, 16,\n",
              "       17, 18, 19, 20, 21, 22, 23, 24])"
            ]
          },
          "metadata": {},
          "execution_count": 42
        }
      ]
    },
    {
      "cell_type": "code",
      "metadata": {
        "id": "ECkpIqbfZfEw"
      },
      "source": [
        "arr_copy=arr.copy()"
      ],
      "execution_count": null,
      "outputs": []
    },
    {
      "cell_type": "code",
      "metadata": {
        "colab": {
          "base_uri": "https://localhost:8080/"
        },
        "id": "fk8WDbBCaX9n",
        "outputId": "70cb23a0-19c4-4794-b78d-f77cd75e0ca3"
      },
      "source": [
        "arr"
      ],
      "execution_count": null,
      "outputs": [
        {
          "output_type": "execute_result",
          "data": {
            "text/plain": [
              "array([ 0, 50, 50, 50,  0, 50,  6,  7,  8,  9, 10, 11, 12, 13, 14, 15, 16,\n",
              "       17, 18, 19, 20, 21, 22, 23, 24])"
            ]
          },
          "metadata": {},
          "execution_count": 44
        }
      ]
    },
    {
      "cell_type": "code",
      "metadata": {
        "id": "J456Qf_naZWP"
      },
      "source": [
        "slice_of_arr=arr[0:6]"
      ],
      "execution_count": null,
      "outputs": []
    },
    {
      "cell_type": "code",
      "metadata": {
        "colab": {
          "base_uri": "https://localhost:8080/"
        },
        "id": "R3oQZalWbHYg",
        "outputId": "cfb0c436-8a94-4c34-ec6b-49234f367064"
      },
      "source": [
        "arr"
      ],
      "execution_count": null,
      "outputs": [
        {
          "output_type": "execute_result",
          "data": {
            "text/plain": [
              "array([ 0, 50, 50, 50,  0, 50,  6,  7,  8,  9, 10, 11, 12, 13, 14, 15, 16,\n",
              "       17, 18, 19, 20, 21, 22, 23, 24])"
            ]
          },
          "metadata": {},
          "execution_count": 46
        }
      ]
    },
    {
      "cell_type": "code",
      "metadata": {
        "colab": {
          "base_uri": "https://localhost:8080/"
        },
        "id": "i2rSPIwSbI0d",
        "outputId": "7bb4ace1-d21e-4344-83e8-6f825683ab21"
      },
      "source": [
        "A=pd.array([[5,10,15],[20,25,30],[35,40,45]])\n",
        "A"
      ],
      "execution_count": null,
      "outputs": [
        {
          "output_type": "execute_result",
          "data": {
            "text/plain": [
              "array([[ 5, 10, 15],\n",
              "       [20, 25, 30],\n",
              "       [35, 40, 45]])"
            ]
          },
          "metadata": {},
          "execution_count": 47
        }
      ]
    },
    {
      "cell_type": "code",
      "metadata": {
        "colab": {
          "base_uri": "https://localhost:8080/"
        },
        "id": "-TTvlSpRb6Eg",
        "outputId": "2016dc2f-a911-4ca9-f2af-6ddfb8836ba9"
      },
      "source": [
        "A[1:,:2]"
      ],
      "execution_count": null,
      "outputs": [
        {
          "output_type": "execute_result",
          "data": {
            "text/plain": [
              "array([[20, 25],\n",
              "       [35, 40]])"
            ]
          },
          "metadata": {},
          "execution_count": 48
        }
      ]
    },
    {
      "cell_type": "code",
      "metadata": {
        "id": "LBQugOnUdKd3"
      },
      "source": [
        ""
      ],
      "execution_count": null,
      "outputs": []
    },
    {
      "cell_type": "code",
      "metadata": {
        "id": "1TQS9Oo-dCbn"
      },
      "source": [
        ""
      ],
      "execution_count": null,
      "outputs": []
    },
    {
      "cell_type": "code",
      "metadata": {
        "colab": {
          "base_uri": "https://localhost:8080/"
        },
        "id": "ib_VebICcLDw",
        "outputId": "09ef38dc-61a3-44c6-cb41-6d53685e5c70"
      },
      "source": [
        "A[:2,1:]"
      ],
      "execution_count": null,
      "outputs": [
        {
          "output_type": "execute_result",
          "data": {
            "text/plain": [
              "array([[10, 15],\n",
              "       [25, 30]])"
            ]
          },
          "metadata": {},
          "execution_count": 49
        }
      ]
    },
    {
      "cell_type": "code",
      "metadata": {
        "colab": {
          "base_uri": "https://localhost:8080/"
        },
        "id": "j7sLdT5jcg8H",
        "outputId": "68632bd0-d2dd-4d16-dcf3-3a6492eda361"
      },
      "source": [
        "A>5"
      ],
      "execution_count": null,
      "outputs": [
        {
          "output_type": "execute_result",
          "data": {
            "text/plain": [
              "array([[False,  True,  True],\n",
              "       [ True,  True,  True],\n",
              "       [ True,  True,  True]])"
            ]
          },
          "metadata": {},
          "execution_count": 50
        }
      ]
    },
    {
      "cell_type": "code",
      "metadata": {
        "colab": {
          "base_uri": "https://localhost:8080/"
        },
        "id": "hPEriCgidVng",
        "outputId": "2f1bfbdb-d131-4ec3-8492-a588a5ea8db6"
      },
      "source": [
        "A<5"
      ],
      "execution_count": null,
      "outputs": [
        {
          "output_type": "execute_result",
          "data": {
            "text/plain": [
              "array([[False, False, False],\n",
              "       [False, False, False],\n",
              "       [False, False, False]])"
            ]
          },
          "metadata": {},
          "execution_count": 51
        }
      ]
    },
    {
      "cell_type": "code",
      "metadata": {
        "colab": {
          "base_uri": "https://localhost:8080/"
        },
        "id": "0E66Gj3EdXXA",
        "outputId": "527ec48a-d941-433c-88cb-145e5020e79d"
      },
      "source": [
        "A>10"
      ],
      "execution_count": null,
      "outputs": [
        {
          "output_type": "execute_result",
          "data": {
            "text/plain": [
              "array([[False, False,  True],\n",
              "       [ True,  True,  True],\n",
              "       [ True,  True,  True]])"
            ]
          },
          "metadata": {},
          "execution_count": 52
        }
      ]
    },
    {
      "cell_type": "code",
      "metadata": {
        "colab": {
          "base_uri": "https://localhost:8080/"
        },
        "id": "kP-981pzdqQ_",
        "outputId": "6e913d98-e842-4103-92f0-9e7d74cdc808"
      },
      "source": [
        "A<0"
      ],
      "execution_count": null,
      "outputs": [
        {
          "output_type": "execute_result",
          "data": {
            "text/plain": [
              "array([[False, False, False],\n",
              "       [False, False, False],\n",
              "       [False, False, False]])"
            ]
          },
          "metadata": {},
          "execution_count": 53
        }
      ]
    },
    {
      "cell_type": "code",
      "metadata": {
        "id": "LQEVs-jYdsIg"
      },
      "source": [
        "true=A>5"
      ],
      "execution_count": null,
      "outputs": []
    },
    {
      "cell_type": "code",
      "metadata": {
        "id": "5eg3um-QfM_g",
        "colab": {
          "base_uri": "https://localhost:8080/"
        },
        "outputId": "9abfa7b2-e2a8-4a39-837b-e5c8d15874c2"
      },
      "source": [
        "A[true]"
      ],
      "execution_count": null,
      "outputs": [
        {
          "output_type": "execute_result",
          "data": {
            "text/plain": [
              "array([10, 15, 20, 25, 30, 35, 40, 45])"
            ]
          },
          "metadata": {},
          "execution_count": 55
        }
      ]
    },
    {
      "cell_type": "code",
      "metadata": {
        "id": "HbUe9oMifS6Y"
      },
      "source": [
        "import numpy as pd"
      ],
      "execution_count": null,
      "outputs": []
    },
    {
      "cell_type": "code",
      "metadata": {
        "colab": {
          "base_uri": "https://localhost:8080/"
        },
        "id": "QgRJUq4oLV0x",
        "outputId": "f2d2aba3-63cb-4afd-c712-e5021a4e3ba6"
      },
      "source": [
        "pd.arange(0,10)"
      ],
      "execution_count": null,
      "outputs": [
        {
          "output_type": "execute_result",
          "data": {
            "text/plain": [
              "array([0, 1, 2, 3, 4, 5, 6, 7, 8, 9])"
            ]
          },
          "metadata": {},
          "execution_count": 57
        }
      ]
    },
    {
      "cell_type": "code",
      "metadata": {
        "colab": {
          "base_uri": "https://localhost:8080/"
        },
        "id": "0wwyZFW9LY9I",
        "outputId": "dd6ca384-689e-4f22-8d9c-b3d8898859db"
      },
      "source": [
        "a=pd.arange(0,10)\n",
        "a"
      ],
      "execution_count": null,
      "outputs": [
        {
          "output_type": "execute_result",
          "data": {
            "text/plain": [
              "array([0, 1, 2, 3, 4, 5, 6, 7, 8, 9])"
            ]
          },
          "metadata": {},
          "execution_count": 58
        }
      ]
    },
    {
      "cell_type": "code",
      "metadata": {
        "id": "jCcAhA_SLmdw"
      },
      "source": [
        "b=pd.arange(10,20)"
      ],
      "execution_count": null,
      "outputs": []
    },
    {
      "cell_type": "code",
      "metadata": {
        "id": "j4kYOLsLMIgv"
      },
      "source": [
        "c=pd.add(a,b)"
      ],
      "execution_count": null,
      "outputs": []
    },
    {
      "cell_type": "code",
      "metadata": {
        "colab": {
          "base_uri": "https://localhost:8080/"
        },
        "id": "MQOU6hDKMMg4",
        "outputId": "82cc4937-fb27-4422-f47c-632dc22656b8"
      },
      "source": [
        "c"
      ],
      "execution_count": null,
      "outputs": [
        {
          "output_type": "execute_result",
          "data": {
            "text/plain": [
              "array([10, 12, 14, 16, 18, 20, 22, 24, 26, 28])"
            ]
          },
          "metadata": {},
          "execution_count": 61
        }
      ]
    },
    {
      "cell_type": "code",
      "metadata": {
        "colab": {
          "base_uri": "https://localhost:8080/"
        },
        "id": "d1JhnZfDMNwX",
        "outputId": "e1dbd248-d6b3-4d15-ce1e-1b3562f37d09"
      },
      "source": [
        "b"
      ],
      "execution_count": null,
      "outputs": [
        {
          "output_type": "execute_result",
          "data": {
            "text/plain": [
              "array([10, 11, 12, 13, 14, 15, 16, 17, 18, 19])"
            ]
          },
          "metadata": {},
          "execution_count": 62
        }
      ]
    },
    {
      "cell_type": "code",
      "metadata": {
        "id": "Wq7MSucyMQhv"
      },
      "source": [
        "c=pd.subtract(a,b)"
      ],
      "execution_count": null,
      "outputs": []
    },
    {
      "cell_type": "code",
      "metadata": {
        "colab": {
          "base_uri": "https://localhost:8080/"
        },
        "id": "JsWnnodHMXo_",
        "outputId": "f676423d-affe-4642-dd44-72608b0f6830"
      },
      "source": [
        "c"
      ],
      "execution_count": null,
      "outputs": [
        {
          "output_type": "execute_result",
          "data": {
            "text/plain": [
              "array([-10, -10, -10, -10, -10, -10, -10, -10, -10, -10])"
            ]
          },
          "metadata": {},
          "execution_count": 64
        }
      ]
    },
    {
      "cell_type": "code",
      "metadata": {
        "colab": {
          "base_uri": "https://localhost:8080/"
        },
        "id": "esb33LNHMYPP",
        "outputId": "cd547891-1c11-41c6-926c-4eb081c4a93f"
      },
      "source": [
        "c=pd.subtract(b,a)\n",
        "c"
      ],
      "execution_count": null,
      "outputs": [
        {
          "output_type": "execute_result",
          "data": {
            "text/plain": [
              "array([10, 10, 10, 10, 10, 10, 10, 10, 10, 10])"
            ]
          },
          "metadata": {},
          "execution_count": 65
        }
      ]
    },
    {
      "cell_type": "code",
      "metadata": {
        "colab": {
          "base_uri": "https://localhost:8080/"
        },
        "id": "-K13QPK0McnA",
        "outputId": "dd304f72-14f6-4030-fe57-0124412a636e"
      },
      "source": [
        "c=pd.multiply(a,b)\n",
        "c"
      ],
      "execution_count": null,
      "outputs": [
        {
          "output_type": "execute_result",
          "data": {
            "text/plain": [
              "array([  0,  11,  24,  39,  56,  75,  96, 119, 144, 171])"
            ]
          },
          "metadata": {},
          "execution_count": 66
        }
      ]
    },
    {
      "cell_type": "code",
      "metadata": {
        "colab": {
          "base_uri": "https://localhost:8080/"
        },
        "id": "r91vuwi9MleY",
        "outputId": "116e3317-2a60-4593-d79a-e14311ea8c58"
      },
      "source": [
        "c=pd.divide(a,b)\n",
        "c"
      ],
      "execution_count": null,
      "outputs": [
        {
          "output_type": "execute_result",
          "data": {
            "text/plain": [
              "array([0.        , 0.09090909, 0.16666667, 0.23076923, 0.28571429,\n",
              "       0.33333333, 0.375     , 0.41176471, 0.44444444, 0.47368421])"
            ]
          },
          "metadata": {},
          "execution_count": 67
        }
      ]
    },
    {
      "cell_type": "code",
      "metadata": {
        "colab": {
          "base_uri": "https://localhost:8080/"
        },
        "id": "gZYl8Jr_Mqeo",
        "outputId": "2c0d8bb2-a850-4121-d686-5703cee977f5"
      },
      "source": [
        "a+b"
      ],
      "execution_count": null,
      "outputs": [
        {
          "output_type": "execute_result",
          "data": {
            "text/plain": [
              "array([10, 12, 14, 16, 18, 20, 22, 24, 26, 28])"
            ]
          },
          "metadata": {},
          "execution_count": 68
        }
      ]
    },
    {
      "cell_type": "code",
      "metadata": {
        "colab": {
          "base_uri": "https://localhost:8080/"
        },
        "id": "xLSyMiirOIHY",
        "outputId": "218490a1-1453-4214-8c9b-b7bcc9fcbceb"
      },
      "source": [
        "a-b"
      ],
      "execution_count": null,
      "outputs": [
        {
          "output_type": "execute_result",
          "data": {
            "text/plain": [
              "array([-10, -10, -10, -10, -10, -10, -10, -10, -10, -10])"
            ]
          },
          "metadata": {},
          "execution_count": 69
        }
      ]
    },
    {
      "cell_type": "code",
      "metadata": {
        "colab": {
          "base_uri": "https://localhost:8080/"
        },
        "id": "Dhq_NgL_OLSA",
        "outputId": "8f04e69f-d607-42f5-e696-424f53897f98"
      },
      "source": [
        "a*b"
      ],
      "execution_count": null,
      "outputs": [
        {
          "output_type": "execute_result",
          "data": {
            "text/plain": [
              "array([  0,  11,  24,  39,  56,  75,  96, 119, 144, 171])"
            ]
          },
          "metadata": {},
          "execution_count": 70
        }
      ]
    },
    {
      "cell_type": "code",
      "metadata": {
        "colab": {
          "base_uri": "https://localhost:8080/"
        },
        "id": "I5JxrjENOMbI",
        "outputId": "cc692070-f809-4081-e418-8704f4a5de37"
      },
      "source": [
        "a/b \n",
        "a/b"
      ],
      "execution_count": null,
      "outputs": [
        {
          "output_type": "execute_result",
          "data": {
            "text/plain": [
              "array([0.        , 0.09090909, 0.16666667, 0.23076923, 0.28571429,\n",
              "       0.33333333, 0.375     , 0.41176471, 0.44444444, 0.47368421])"
            ]
          },
          "metadata": {},
          "execution_count": 71
        }
      ]
    },
    {
      "cell_type": "code",
      "metadata": {
        "colab": {
          "base_uri": "https://localhost:8080/"
        },
        "id": "l41fJ4VwOQw4",
        "outputId": "7884db45-7e4a-492c-a689-9e0837f057b3"
      },
      "source": [
        "a/a"
      ],
      "execution_count": null,
      "outputs": [
        {
          "output_type": "stream",
          "name": "stderr",
          "text": [
            "/usr/local/lib/python3.7/dist-packages/ipykernel_launcher.py:1: RuntimeWarning: invalid value encountered in true_divide\n",
            "  \"\"\"Entry point for launching an IPython kernel.\n"
          ]
        },
        {
          "output_type": "execute_result",
          "data": {
            "text/plain": [
              "array([nan,  1.,  1.,  1.,  1.,  1.,  1.,  1.,  1.,  1.])"
            ]
          },
          "metadata": {},
          "execution_count": 72
        }
      ]
    },
    {
      "cell_type": "code",
      "metadata": {
        "colab": {
          "base_uri": "https://localhost:8080/"
        },
        "id": "YUT-o1PrOSag",
        "outputId": "ec261157-b3aa-47b2-9ee8-74a6e7edfab8"
      },
      "source": [
        "1/a"
      ],
      "execution_count": null,
      "outputs": [
        {
          "output_type": "stream",
          "name": "stderr",
          "text": [
            "/usr/local/lib/python3.7/dist-packages/ipykernel_launcher.py:1: RuntimeWarning: divide by zero encountered in true_divide\n",
            "  \"\"\"Entry point for launching an IPython kernel.\n"
          ]
        },
        {
          "output_type": "execute_result",
          "data": {
            "text/plain": [
              "array([       inf, 1.        , 0.5       , 0.33333333, 0.25      ,\n",
              "       0.2       , 0.16666667, 0.14285714, 0.125     , 0.11111111])"
            ]
          },
          "metadata": {},
          "execution_count": 73
        }
      ]
    },
    {
      "cell_type": "code",
      "metadata": {
        "colab": {
          "base_uri": "https://localhost:8080/"
        },
        "id": "ZDVEulYFOUh4",
        "outputId": "f18f3aca-0f68-40d7-d01a-c034a9b4365d"
      },
      "source": [
        "a/0"
      ],
      "execution_count": null,
      "outputs": [
        {
          "output_type": "stream",
          "name": "stderr",
          "text": [
            "/usr/local/lib/python3.7/dist-packages/ipykernel_launcher.py:1: RuntimeWarning: divide by zero encountered in true_divide\n",
            "  \"\"\"Entry point for launching an IPython kernel.\n",
            "/usr/local/lib/python3.7/dist-packages/ipykernel_launcher.py:1: RuntimeWarning: invalid value encountered in true_divide\n",
            "  \"\"\"Entry point for launching an IPython kernel.\n"
          ]
        },
        {
          "output_type": "execute_result",
          "data": {
            "text/plain": [
              "array([nan, inf, inf, inf, inf, inf, inf, inf, inf, inf])"
            ]
          },
          "metadata": {},
          "execution_count": 74
        }
      ]
    },
    {
      "cell_type": "markdown",
      "source": [
        "SVD:"
      ],
      "metadata": {
        "id": "97xR38V0YY08"
      }
    },
    {
      "cell_type": "code",
      "metadata": {
        "id": "usBGDqm2Ocbc"
      },
      "source": [
        "import numpy as np\n",
        "A = np.arange(0,25)\n",
        "from scipy.linalg import svd"
      ],
      "execution_count": null,
      "outputs": []
    },
    {
      "cell_type": "code",
      "source": [
        "A"
      ],
      "metadata": {
        "colab": {
          "base_uri": "https://localhost:8080/"
        },
        "id": "jc7lSJSAYwQO",
        "outputId": "d5a7e0c3-c47b-4e8a-ab7a-d80d8b91169d"
      },
      "execution_count": null,
      "outputs": [
        {
          "output_type": "execute_result",
          "data": {
            "text/plain": [
              "array([ 0,  1,  2,  3,  4,  5,  6,  7,  8,  9, 10, 11, 12, 13, 14, 15, 16,\n",
              "       17, 18, 19, 20, 21, 22, 23, 24])"
            ]
          },
          "metadata": {},
          "execution_count": 78
        }
      ]
    },
    {
      "cell_type": "code",
      "source": [
        "a = np.arange(1,19).reshape(6,3)"
      ],
      "metadata": {
        "id": "L-mrYXgFYcdN"
      },
      "execution_count": null,
      "outputs": []
    },
    {
      "cell_type": "code",
      "source": [
        "U, s, VT = svd(a)"
      ],
      "metadata": {
        "id": "W34WG_ziYfcp"
      },
      "execution_count": null,
      "outputs": []
    },
    {
      "cell_type": "code",
      "source": [
        "U"
      ],
      "metadata": {
        "colab": {
          "base_uri": "https://localhost:8080/"
        },
        "id": "E-okX9zBYjgA",
        "outputId": "6da3a7c5-075f-4d8f-93c3-f4d3892445f0"
      },
      "execution_count": null,
      "outputs": [
        {
          "output_type": "execute_result",
          "data": {
            "text/plain": [
              "array([[-0.07736219,  0.71960032, -0.09075777, -0.25083666, -0.45979172,\n",
              "        -0.4400296 ],\n",
              "       [-0.19033085,  0.50893247,  0.58409372,  0.4022013 ,  0.06897105,\n",
              "         0.44392965],\n",
              "       [-0.3032995 ,  0.29826463, -0.34118019, -0.54123699,  0.50890998,\n",
              "         0.38822268],\n",
              "       [-0.41626816,  0.08759679, -0.61888418,  0.65636038,  0.03282454,\n",
              "        -0.06437079],\n",
              "       [-0.52923682, -0.12307105,  0.37872289, -0.04363171,  0.43069535,\n",
              "        -0.61149707],\n",
              "       [-0.64220548, -0.33373889,  0.08800553, -0.22285632, -0.58160921,\n",
              "         0.28374512]])"
            ]
          },
          "metadata": {},
          "execution_count": 81
        }
      ]
    },
    {
      "cell_type": "code",
      "source": [
        "s"
      ],
      "metadata": {
        "colab": {
          "base_uri": "https://localhost:8080/"
        },
        "id": "ZVAk39TBY6l6",
        "outputId": "b9711f1f-6ef6-4571-f955-fc4d3ca80236"
      },
      "execution_count": null,
      "outputs": [
        {
          "output_type": "execute_result",
          "data": {
            "text/plain": [
              "array([4.58945322e+01, 1.64070530e+00, 1.74146424e-15])"
            ]
          },
          "metadata": {},
          "execution_count": 83
        }
      ]
    },
    {
      "cell_type": "code",
      "source": [
        "VT"
      ],
      "metadata": {
        "colab": {
          "base_uri": "https://localhost:8080/"
        },
        "id": "2G2iu8gjZBBW",
        "outputId": "4f59787d-fa53-4668-88f6-d152d353ecd8"
      },
      "execution_count": null,
      "outputs": [
        {
          "output_type": "execute_result",
          "data": {
            "text/plain": [
              "array([[-0.52903535, -0.57607152, -0.62310769],\n",
              "       [-0.74394551, -0.03840487,  0.66713577],\n",
              "       [ 0.40824829, -0.81649658,  0.40824829]])"
            ]
          },
          "metadata": {},
          "execution_count": 84
        }
      ]
    },
    {
      "cell_type": "code",
      "source": [
        "U, s, VT = svd(a,full_matrices=True)"
      ],
      "metadata": {
        "id": "Av8oPY1ZZChR"
      },
      "execution_count": null,
      "outputs": []
    },
    {
      "cell_type": "code",
      "source": [
        "U"
      ],
      "metadata": {
        "colab": {
          "base_uri": "https://localhost:8080/"
        },
        "id": "TumdtGJlZH3f",
        "outputId": "0fc2fa7c-92e5-4524-efca-611088a82275"
      },
      "execution_count": null,
      "outputs": [
        {
          "output_type": "execute_result",
          "data": {
            "text/plain": [
              "array([[-0.07736219,  0.71960032, -0.09075777, -0.25083666, -0.45979172,\n",
              "        -0.4400296 ],\n",
              "       [-0.19033085,  0.50893247,  0.58409372,  0.4022013 ,  0.06897105,\n",
              "         0.44392965],\n",
              "       [-0.3032995 ,  0.29826463, -0.34118019, -0.54123699,  0.50890998,\n",
              "         0.38822268],\n",
              "       [-0.41626816,  0.08759679, -0.61888418,  0.65636038,  0.03282454,\n",
              "        -0.06437079],\n",
              "       [-0.52923682, -0.12307105,  0.37872289, -0.04363171,  0.43069535,\n",
              "        -0.61149707],\n",
              "       [-0.64220548, -0.33373889,  0.08800553, -0.22285632, -0.58160921,\n",
              "         0.28374512]])"
            ]
          },
          "metadata": {},
          "execution_count": 86
        }
      ]
    },
    {
      "cell_type": "code",
      "source": [
        "U, s, VT = svd(a,full_matrices=False)"
      ],
      "metadata": {
        "id": "ZEncdAmrZL6j"
      },
      "execution_count": null,
      "outputs": []
    },
    {
      "cell_type": "code",
      "source": [
        "U"
      ],
      "metadata": {
        "colab": {
          "base_uri": "https://localhost:8080/"
        },
        "id": "69387AiDZMyP",
        "outputId": "b0914360-2ba6-471e-dafe-564bb7379611"
      },
      "execution_count": null,
      "outputs": [
        {
          "output_type": "execute_result",
          "data": {
            "text/plain": [
              "array([[-0.07736219,  0.71960032, -0.09075777],\n",
              "       [-0.19033085,  0.50893247,  0.58409372],\n",
              "       [-0.3032995 ,  0.29826463, -0.34118019],\n",
              "       [-0.41626816,  0.08759679, -0.61888418],\n",
              "       [-0.52923682, -0.12307105,  0.37872289],\n",
              "       [-0.64220548, -0.33373889,  0.08800553]])"
            ]
          },
          "metadata": {},
          "execution_count": 88
        }
      ]
    },
    {
      "cell_type": "code",
      "source": [
        "from numpy import diag\n",
        "from numpy import dot"
      ],
      "metadata": {
        "id": "TJOqaFk_ZQM-"
      },
      "execution_count": null,
      "outputs": []
    },
    {
      "cell_type": "code",
      "source": [
        "a= (U @ np.diag(s) @ VT)"
      ],
      "metadata": {
        "id": "4iexHj4_ZV_Y"
      },
      "execution_count": null,
      "outputs": []
    },
    {
      "cell_type": "code",
      "source": [
        "a"
      ],
      "metadata": {
        "colab": {
          "base_uri": "https://localhost:8080/"
        },
        "id": "PkPXIqgzZYQm",
        "outputId": "8d6be5aa-3887-4cc3-92c1-151df0e5a2dd"
      },
      "execution_count": null,
      "outputs": [
        {
          "output_type": "execute_result",
          "data": {
            "text/plain": [
              "array([[ 1.,  2.,  3.],\n",
              "       [ 4.,  5.,  6.],\n",
              "       [ 7.,  8.,  9.],\n",
              "       [10., 11., 12.],\n",
              "       [13., 14., 15.],\n",
              "       [16., 17., 18.]])"
            ]
          },
          "metadata": {},
          "execution_count": 91
        }
      ]
    },
    {
      "cell_type": "markdown",
      "source": [
        "## **RESULT:**\n",
        "\n",
        "The program executedsuccessfully and obtained the output"
      ],
      "metadata": {
        "id": "XRLol1G5ZzvR"
      }
    }
  ]
}