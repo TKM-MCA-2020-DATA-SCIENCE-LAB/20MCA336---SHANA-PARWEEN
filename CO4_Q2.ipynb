{
  "nbformat": 4,
  "nbformat_minor": 0,
  "metadata": {
    "colab": {
      "name": "CO4_Q2.ipynb",
      "provenance": []
    },
    "kernelspec": {
      "name": "python3",
      "display_name": "Python 3"
    },
    "language_info": {
      "name": "python"
    }
  },
  "cells": [
    {
      "cell_type": "code",
      "execution_count": null,
      "metadata": {
        "id": "6zByVIz2xRKM"
      },
      "outputs": [],
      "source": [
        "import tensorflow as tf\n",
        "from tensorflow.keras import datasets,layers,models\n",
        "import matplotlib.pyplot as plt\n",
        "import numpy as np\n",
        "from sklearn.metrics import classification_report"
      ]
    },
    {
      "cell_type": "code",
      "source": [
        "(x_train,y_train),(x_test,y_test) = datasets.cifar10.load_data()"
      ],
      "metadata": {
        "colab": {
          "base_uri": "https://localhost:8080/"
        },
        "id": "kS5hljrdyLW2",
        "outputId": "3227140c-ffdb-4e99-d56f-0fc35c8d4f5e"
      },
      "execution_count": null,
      "outputs": [
        {
          "output_type": "stream",
          "name": "stdout",
          "text": [
            "Downloading data from https://www.cs.toronto.edu/~kriz/cifar-10-python.tar.gz\n",
            "170500096/170498071 [==============================] - 3s 0us/step\n",
            "170508288/170498071 [==============================] - 3s 0us/step\n"
          ]
        }
      ]
    },
    {
      "cell_type": "code",
      "source": [
        "x_train.shape"
      ],
      "metadata": {
        "colab": {
          "base_uri": "https://localhost:8080/"
        },
        "id": "EeK2HpJKya9A",
        "outputId": "b9affabf-548b-4c79-9bcb-979708a5978e"
      },
      "execution_count": null,
      "outputs": [
        {
          "output_type": "execute_result",
          "data": {
            "text/plain": [
              "(50000, 32, 32, 3)"
            ]
          },
          "metadata": {},
          "execution_count": 5
        }
      ]
    },
    {
      "cell_type": "code",
      "source": [
        "x_test.shape"
      ],
      "metadata": {
        "colab": {
          "base_uri": "https://localhost:8080/"
        },
        "id": "ib2jccFtyiiQ",
        "outputId": "96c00e83-66f5-45ef-99ef-201f59d82ced"
      },
      "execution_count": null,
      "outputs": [
        {
          "output_type": "execute_result",
          "data": {
            "text/plain": [
              "(10000, 32, 32, 3)"
            ]
          },
          "metadata": {},
          "execution_count": 6
        }
      ]
    },
    {
      "cell_type": "code",
      "source": [
        "classes = ['airplane','automobile','bird','cat','deer','dog','frog','horse','ship','truck']"
      ],
      "metadata": {
        "id": "zt-u0hAtynQ8"
      },
      "execution_count": null,
      "outputs": []
    },
    {
      "cell_type": "code",
      "source": [
        "def plot_sample(x,y,index):\n",
        "  plt.figure(figsize=(14,2))\n",
        "  plt.imshow(x[index])\n",
        "  plt.xlabel(y[index])"
      ],
      "metadata": {
        "id": "XKjYDy9uy8b2"
      },
      "execution_count": null,
      "outputs": []
    },
    {
      "cell_type": "code",
      "source": [
        "plot_sample(x_train,y_train,1)"
      ],
      "metadata": {
        "colab": {
          "base_uri": "https://localhost:8080/",
          "height": 228
        },
        "id": "9kYomLjVzX2_",
        "outputId": "24849e18-0cef-4771-e69e-8bc58a45a9db"
      },
      "execution_count": null,
      "outputs": [
        {
          "output_type": "stream",
          "name": "stderr",
          "text": [
            "/usr/local/lib/python3.7/dist-packages/matplotlib/text.py:1165: FutureWarning: elementwise comparison failed; returning scalar instead, but in the future will perform elementwise comparison\n",
            "  if s != self._text:\n"
          ]
        },
        {
          "output_type": "display_data",
          "data": {
            "image/png": "[encoded data removed]",
            "text/plain": [
              "<Figure size 1008x144 with 1 Axes>"
            ]
          },
          "metadata": {
            "needs_background": "light"
          }
        }
      ]
    },
    {
      "cell_type": "code",
      "source": [
        "#Normalize\n",
        "x_train=x_train/255\n",
        "x_test=x_test/255"
      ],
      "metadata": {
        "id": "CT0N4XKtzdHF"
      },
      "execution_count": null,
      "outputs": []
    },
    {
      "cell_type": "code",
      "source": [
        "#model\n",
        "cnn=models.Sequential([\n",
        " #feature extraction\n",
        " layers.Conv2D(filters=32,activation='relu',kernel_size=(3,3),input_shape=(32,32,3)),\n",
        " layers.MaxPooling2D((2,2)),\n",
        "\n",
        " #Classification\n",
        " layers.Flatten(),\n",
        " layers.Dense(64,activation='relu'),\n",
        " layers.Dense(10,activation='softmax')                      \n",
        "])"
      ],
      "metadata": {
        "id": "V8OFF_6az2jl"
      },
      "execution_count": null,
      "outputs": []
    },
    {
      "cell_type": "code",
      "source": [
        "cnn.compile(optimizer='adam',loss='sparse_categorical_crossentropy',metrics=['accuracy'])"
      ],
      "metadata": {
        "id": "I1mq4zAO0qxv"
      },
      "execution_count": null,
      "outputs": []
    },
    {
      "cell_type": "code",
      "source": [
        "cnn.fit(x_train,y_train,epochs=20)"
      ],
      "metadata": {
        "colab": {
          "base_uri": "https://localhost:8080/"
        },
        "id": "j9GdXar703vF",
        "outputId": "f5f9572a-e175-45c3-bdf2-615e8d24c566"
      },
      "execution_count": null,
      "outputs": [
        {
          "output_type": "stream",
          "name": "stdout",
          "text": [
            "Epoch 1/20\n",
            "1563/1563 [==============================] - 33s 21ms/step - loss: 1.4955 - accuracy: 0.4681\n",
            "Epoch 2/20\n",
            "1563/1563 [==============================] - 32s 21ms/step - loss: 1.2080 - accuracy: 0.5772\n",
            "Epoch 3/20\n",
            "1563/1563 [==============================] - 32s 21ms/step - loss: 1.1052 - accuracy: 0.6161\n",
            "Epoch 4/20\n",
            "1563/1563 [==============================] - 33s 21ms/step - loss: 1.0290 - accuracy: 0.6396\n",
            "Epoch 5/20\n",
            "1563/1563 [==============================] - 31s 20ms/step - loss: 0.9726 - accuracy: 0.6599\n",
            "Epoch 6/20\n",
            "1563/1563 [==============================] - 31s 20ms/step - loss: 0.9200 - accuracy: 0.6817\n",
            "Epoch 7/20\n",
            "1563/1563 [==============================] - 32s 21ms/step - loss: 0.8766 - accuracy: 0.6931\n",
            "Epoch 8/20\n",
            "1563/1563 [==============================] - 32s 21ms/step - loss: 0.8384 - accuracy: 0.7095\n",
            "Epoch 9/20\n",
            "1563/1563 [==============================] - 32s 20ms/step - loss: 0.8063 - accuracy: 0.7169\n",
            "Epoch 10/20\n",
            "1563/1563 [==============================] - 32s 21ms/step - loss: 0.7773 - accuracy: 0.7267\n",
            "Epoch 11/20\n",
            "1563/1563 [==============================] - 32s 20ms/step - loss: 0.7443 - accuracy: 0.7399\n",
            "Epoch 12/20\n",
            "1563/1563 [==============================] - 35s 22ms/step - loss: 0.7181 - accuracy: 0.7477\n",
            "Epoch 13/20\n",
            "1563/1563 [==============================] - 33s 21ms/step - loss: 0.6937 - accuracy: 0.7575\n",
            "Epoch 14/20\n",
            "1563/1563 [==============================] - 33s 21ms/step - loss: 0.6653 - accuracy: 0.7673\n",
            "Epoch 15/20\n",
            "1563/1563 [==============================] - 34s 22ms/step - loss: 0.6452 - accuracy: 0.7741\n",
            "Epoch 16/20\n",
            "1563/1563 [==============================] - 35s 22ms/step - loss: 0.6167 - accuracy: 0.7845\n",
            "Epoch 17/20\n",
            "1563/1563 [==============================] - 33s 21ms/step - loss: 0.5945 - accuracy: 0.7928\n",
            "Epoch 18/20\n",
            "1563/1563 [==============================] - 33s 21ms/step - loss: 0.5793 - accuracy: 0.7956\n",
            "Epoch 19/20\n",
            "1563/1563 [==============================] - 33s 21ms/step - loss: 0.5546 - accuracy: 0.8055\n",
            "Epoch 20/20\n",
            "1563/1563 [==============================] - 33s 21ms/step - loss: 0.5316 - accuracy: 0.8128\n"
          ]
        },
        {
          "output_type": "execute_result",
          "data": {
            "text/plain": [
              "<keras.callbacks.History at 0x7f999ade9b90>"
            ]
          },
          "metadata": {},
          "execution_count": 14
        }
      ]
    },
    {
      "cell_type": "code",
      "source": [
        "y_pred=cnn.predict(x_test)"
      ],
      "metadata": {
        "id": "40A8FXMG08u5"
      },
      "execution_count": null,
      "outputs": []
    },
    {
      "cell_type": "code",
      "source": [
        "cnn.evaluate(x_test,y_test)"
      ],
      "metadata": {
        "colab": {
          "base_uri": "https://localhost:8080/"
        },
        "id": "e1CtlQ_YxS-J",
        "outputId": "077d9b78-d87f-42a1-fed4-8fc970d1c3fc"
      },
      "execution_count": null,
      "outputs": [
        {
          "output_type": "stream",
          "name": "stdout",
          "text": [
            "313/313 [==============================] - 2s 7ms/step - loss: 1.3166 - accuracy: 0.6134\n"
          ]
        },
        {
          "output_type": "execute_result",
          "data": {
            "text/plain": [
              "[1.3166470527648926, 0.6133999824523926]"
            ]
          },
          "metadata": {},
          "execution_count": 16
        }
      ]
    },
    {
      "cell_type": "code",
      "source": [
        "y_test=y_test.reshape(-1,)\n",
        "y_pred=cnn.predict(x_test)"
      ],
      "metadata": {
        "id": "u6-uNXiGxTAz"
      },
      "execution_count": null,
      "outputs": []
    },
    {
      "cell_type": "code",
      "source": [
        "y_classes=[np.argmax(element) for element in y_pred]\n",
        "print(\"Classification report:\\n\",classification_report(y_test,y_classes))"
      ],
      "metadata": {
        "colab": {
          "base_uri": "https://localhost:8080/"
        },
        "id": "uj7F8RAX1SGE",
        "outputId": "15c924b0-1587-4725-fb6e-8f00cd790690"
      },
      "execution_count": null,
      "outputs": [
        {
          "output_type": "stream",
          "name": "stdout",
          "text": [
            "Classification report:\n",
            "               precision    recall  f1-score   support\n",
            "\n",
            "           0       0.64      0.65      0.65      1000\n",
            "           1       0.82      0.65      0.72      1000\n",
            "           2       0.48      0.50      0.49      1000\n",
            "           3       0.41      0.46      0.43      1000\n",
            "           4       0.64      0.45      0.53      1000\n",
            "           5       0.49      0.53      0.51      1000\n",
            "           6       0.74      0.68      0.70      1000\n",
            "           7       0.65      0.69      0.67      1000\n",
            "           8       0.70      0.77      0.73      1000\n",
            "           9       0.65      0.76      0.70      1000\n",
            "\n",
            "    accuracy                           0.61     10000\n",
            "   macro avg       0.62      0.61      0.61     10000\n",
            "weighted avg       0.62      0.61      0.61     10000\n",
            "\n"
          ]
        }
      ]
    },
    {
      "cell_type": "code",
      "source": [
        ""
      ],
      "metadata": {
        "id": "e2Hd1z8S1SLH"
      },
      "execution_count": null,
      "outputs": []
    }
  ]
}